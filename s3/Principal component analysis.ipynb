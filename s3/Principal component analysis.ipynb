{
 "cells": [
  {
   "cell_type": "markdown",
   "id": "143f884a",
   "metadata": {},
   "source": [
    "##  Importing important Libraries "
   ]
  },
  {
   "cell_type": "code",
   "execution_count": 1,
   "id": "09fbb850",
   "metadata": {},
   "outputs": [],
   "source": [
    "import numpy as np\n",
    "import pandas as pd\n",
    "import matplotlib.pyplot as plt\n",
    "import seaborn as sns"
   ]
  },
  {
   "cell_type": "markdown",
   "id": "d2ff18d3",
   "metadata": {},
   "source": [
    "## Loading data "
   ]
  },
  {
   "cell_type": "code",
   "execution_count": 2,
   "id": "90dd24bc",
   "metadata": {},
   "outputs": [],
   "source": [
    "f = pd.read_csv(\"Retail.csv\", encoding='ANSI')"
   ]
  },
  {
   "cell_type": "code",
   "execution_count": 3,
   "id": "54a646d4",
   "metadata": {},
   "outputs": [
    {
     "data": {
      "text/html": [
       "<div>\n",
       "<style scoped>\n",
       "    .dataframe tbody tr th:only-of-type {\n",
       "        vertical-align: middle;\n",
       "    }\n",
       "\n",
       "    .dataframe tbody tr th {\n",
       "        vertical-align: top;\n",
       "    }\n",
       "\n",
       "    .dataframe thead th {\n",
       "        text-align: right;\n",
       "    }\n",
       "</style>\n",
       "<table border=\"1\" class=\"dataframe\">\n",
       "  <thead>\n",
       "    <tr style=\"text-align: right;\">\n",
       "      <th></th>\n",
       "      <th>InvoiceNo</th>\n",
       "      <th>StockCode</th>\n",
       "      <th>Description</th>\n",
       "      <th>Quantity</th>\n",
       "      <th>InvoiceDate</th>\n",
       "      <th>UnitPrice</th>\n",
       "      <th>CustomerID</th>\n",
       "      <th>Country</th>\n",
       "    </tr>\n",
       "  </thead>\n",
       "  <tbody>\n",
       "    <tr>\n",
       "      <th>0</th>\n",
       "      <td>536365</td>\n",
       "      <td>85123A</td>\n",
       "      <td>WHITE HANGING HEART T-LIGHT HOLDER</td>\n",
       "      <td>6</td>\n",
       "      <td>12/1/2010 8:26</td>\n",
       "      <td>2.55</td>\n",
       "      <td>17850.0</td>\n",
       "      <td>United Kingdom</td>\n",
       "    </tr>\n",
       "    <tr>\n",
       "      <th>1</th>\n",
       "      <td>536365</td>\n",
       "      <td>71053</td>\n",
       "      <td>WHITE METAL LANTERN</td>\n",
       "      <td>6</td>\n",
       "      <td>12/1/2010 8:26</td>\n",
       "      <td>3.39</td>\n",
       "      <td>17850.0</td>\n",
       "      <td>United Kingdom</td>\n",
       "    </tr>\n",
       "    <tr>\n",
       "      <th>2</th>\n",
       "      <td>536365</td>\n",
       "      <td>84406B</td>\n",
       "      <td>CREAM CUPID HEARTS COAT HANGER</td>\n",
       "      <td>8</td>\n",
       "      <td>12/1/2010 8:26</td>\n",
       "      <td>2.75</td>\n",
       "      <td>17850.0</td>\n",
       "      <td>United Kingdom</td>\n",
       "    </tr>\n",
       "    <tr>\n",
       "      <th>3</th>\n",
       "      <td>536365</td>\n",
       "      <td>84029G</td>\n",
       "      <td>KNITTED UNION FLAG HOT WATER BOTTLE</td>\n",
       "      <td>6</td>\n",
       "      <td>12/1/2010 8:26</td>\n",
       "      <td>3.39</td>\n",
       "      <td>17850.0</td>\n",
       "      <td>United Kingdom</td>\n",
       "    </tr>\n",
       "    <tr>\n",
       "      <th>4</th>\n",
       "      <td>536365</td>\n",
       "      <td>84029E</td>\n",
       "      <td>RED WOOLLY HOTTIE WHITE HEART.</td>\n",
       "      <td>6</td>\n",
       "      <td>12/1/2010 8:26</td>\n",
       "      <td>3.39</td>\n",
       "      <td>17850.0</td>\n",
       "      <td>United Kingdom</td>\n",
       "    </tr>\n",
       "  </tbody>\n",
       "</table>\n",
       "</div>"
      ],
      "text/plain": [
       "  InvoiceNo StockCode                          Description  Quantity  \\\n",
       "0    536365    85123A   WHITE HANGING HEART T-LIGHT HOLDER         6   \n",
       "1    536365     71053                  WHITE METAL LANTERN         6   \n",
       "2    536365    84406B       CREAM CUPID HEARTS COAT HANGER         8   \n",
       "3    536365    84029G  KNITTED UNION FLAG HOT WATER BOTTLE         6   \n",
       "4    536365    84029E       RED WOOLLY HOTTIE WHITE HEART.         6   \n",
       "\n",
       "      InvoiceDate  UnitPrice  CustomerID         Country  \n",
       "0  12/1/2010 8:26       2.55     17850.0  United Kingdom  \n",
       "1  12/1/2010 8:26       3.39     17850.0  United Kingdom  \n",
       "2  12/1/2010 8:26       2.75     17850.0  United Kingdom  \n",
       "3  12/1/2010 8:26       3.39     17850.0  United Kingdom  \n",
       "4  12/1/2010 8:26       3.39     17850.0  United Kingdom  "
      ]
     },
     "execution_count": 3,
     "metadata": {},
     "output_type": "execute_result"
    }
   ],
   "source": [
    "f.head()"
   ]
  },
  {
   "cell_type": "markdown",
   "id": "2a518b61",
   "metadata": {},
   "source": [
    "# Data Pre-Processing"
   ]
  },
  {
   "cell_type": "markdown",
   "id": "368fa74d",
   "metadata": {},
   "source": [
    "## Changing Date format  "
   ]
  },
  {
   "cell_type": "code",
   "execution_count": 4,
   "id": "77eec8d3",
   "metadata": {},
   "outputs": [],
   "source": [
    "f['InvoiceDate'] = pd.to_datetime(f['InvoiceDate'])"
   ]
  },
  {
   "cell_type": "code",
   "execution_count": 5,
   "id": "22b2c2bd",
   "metadata": {},
   "outputs": [
    {
     "data": {
      "text/html": [
       "<div>\n",
       "<style scoped>\n",
       "    .dataframe tbody tr th:only-of-type {\n",
       "        vertical-align: middle;\n",
       "    }\n",
       "\n",
       "    .dataframe tbody tr th {\n",
       "        vertical-align: top;\n",
       "    }\n",
       "\n",
       "    .dataframe thead th {\n",
       "        text-align: right;\n",
       "    }\n",
       "</style>\n",
       "<table border=\"1\" class=\"dataframe\">\n",
       "  <thead>\n",
       "    <tr style=\"text-align: right;\">\n",
       "      <th></th>\n",
       "      <th>InvoiceNo</th>\n",
       "      <th>StockCode</th>\n",
       "      <th>Description</th>\n",
       "      <th>Quantity</th>\n",
       "      <th>InvoiceDate</th>\n",
       "      <th>UnitPrice</th>\n",
       "      <th>CustomerID</th>\n",
       "      <th>Country</th>\n",
       "    </tr>\n",
       "  </thead>\n",
       "  <tbody>\n",
       "    <tr>\n",
       "      <th>0</th>\n",
       "      <td>536365</td>\n",
       "      <td>85123A</td>\n",
       "      <td>WHITE HANGING HEART T-LIGHT HOLDER</td>\n",
       "      <td>6</td>\n",
       "      <td>2010-12-01 08:26:00</td>\n",
       "      <td>2.55</td>\n",
       "      <td>17850.0</td>\n",
       "      <td>United Kingdom</td>\n",
       "    </tr>\n",
       "    <tr>\n",
       "      <th>1</th>\n",
       "      <td>536365</td>\n",
       "      <td>71053</td>\n",
       "      <td>WHITE METAL LANTERN</td>\n",
       "      <td>6</td>\n",
       "      <td>2010-12-01 08:26:00</td>\n",
       "      <td>3.39</td>\n",
       "      <td>17850.0</td>\n",
       "      <td>United Kingdom</td>\n",
       "    </tr>\n",
       "    <tr>\n",
       "      <th>2</th>\n",
       "      <td>536365</td>\n",
       "      <td>84406B</td>\n",
       "      <td>CREAM CUPID HEARTS COAT HANGER</td>\n",
       "      <td>8</td>\n",
       "      <td>2010-12-01 08:26:00</td>\n",
       "      <td>2.75</td>\n",
       "      <td>17850.0</td>\n",
       "      <td>United Kingdom</td>\n",
       "    </tr>\n",
       "    <tr>\n",
       "      <th>3</th>\n",
       "      <td>536365</td>\n",
       "      <td>84029G</td>\n",
       "      <td>KNITTED UNION FLAG HOT WATER BOTTLE</td>\n",
       "      <td>6</td>\n",
       "      <td>2010-12-01 08:26:00</td>\n",
       "      <td>3.39</td>\n",
       "      <td>17850.0</td>\n",
       "      <td>United Kingdom</td>\n",
       "    </tr>\n",
       "    <tr>\n",
       "      <th>4</th>\n",
       "      <td>536365</td>\n",
       "      <td>84029E</td>\n",
       "      <td>RED WOOLLY HOTTIE WHITE HEART.</td>\n",
       "      <td>6</td>\n",
       "      <td>2010-12-01 08:26:00</td>\n",
       "      <td>3.39</td>\n",
       "      <td>17850.0</td>\n",
       "      <td>United Kingdom</td>\n",
       "    </tr>\n",
       "  </tbody>\n",
       "</table>\n",
       "</div>"
      ],
      "text/plain": [
       "  InvoiceNo StockCode                          Description  Quantity  \\\n",
       "0    536365    85123A   WHITE HANGING HEART T-LIGHT HOLDER         6   \n",
       "1    536365     71053                  WHITE METAL LANTERN         6   \n",
       "2    536365    84406B       CREAM CUPID HEARTS COAT HANGER         8   \n",
       "3    536365    84029G  KNITTED UNION FLAG HOT WATER BOTTLE         6   \n",
       "4    536365    84029E       RED WOOLLY HOTTIE WHITE HEART.         6   \n",
       "\n",
       "          InvoiceDate  UnitPrice  CustomerID         Country  \n",
       "0 2010-12-01 08:26:00       2.55     17850.0  United Kingdom  \n",
       "1 2010-12-01 08:26:00       3.39     17850.0  United Kingdom  \n",
       "2 2010-12-01 08:26:00       2.75     17850.0  United Kingdom  \n",
       "3 2010-12-01 08:26:00       3.39     17850.0  United Kingdom  \n",
       "4 2010-12-01 08:26:00       3.39     17850.0  United Kingdom  "
      ]
     },
     "execution_count": 5,
     "metadata": {},
     "output_type": "execute_result"
    }
   ],
   "source": [
    "f.head()"
   ]
  },
  {
   "cell_type": "code",
   "execution_count": 6,
   "id": "188e028f",
   "metadata": {},
   "outputs": [],
   "source": [
    "perf6m = f[f['InvoiceDate']< '2011-01-01'] #6month performance\n",
    "hist6m  = f[f['InvoiceDate']>'2011-01-01'] # 6 month future"
   ]
  },
  {
   "cell_type": "code",
   "execution_count": 7,
   "id": "a343fb9f",
   "metadata": {},
   "outputs": [],
   "source": [
    "# Getting Unique Customer ID\n",
    "user = pd.DataFrame(perf6m['CustomerID'].unique())\n",
    "user.columns = ['CustomerID']"
   ]
  },
  {
   "cell_type": "code",
   "execution_count": 8,
   "id": "a6875d9d",
   "metadata": {},
   "outputs": [],
   "source": [
    "#create a dataframe with customer id and first purchase date in hist6m\n",
    "first_purchase = hist6m.groupby('CustomerID').InvoiceDate.min().reset_index()\n",
    "first_purchase.columns = ['CustomerID','MinPurchaseDate']\n",
    "#create a dataframe with customer id and last purchase date in perf6m\n",
    "last_purchase = perf6m.groupby('CustomerID').InvoiceDate.max().reset_index()\n",
    "last_purchase.columns = ['CustomerID','MaxPurchaseDate']"
   ]
  },
  {
   "cell_type": "code",
   "execution_count": 9,
   "id": "4be27ef2",
   "metadata": {},
   "outputs": [],
   "source": [
    "#merge two dataframes\n",
    "purchase_dates = pd.merge(last_purchase,first_purchase,on='CustomerID',how='left')\n",
    "#calculate the time difference in days:\n",
    "purchase_dates['NextPurchaseDay'] = (purchase_dates['MinPurchaseDate'] - purchase_dates['MaxPurchaseDate']).dt.days\n",
    "#merge with hist6m \n",
    "user = pd.merge(user, purchase_dates[['CustomerID','NextPurchaseDay']],on='CustomerID',how='left')\n"
   ]
  },
  {
   "cell_type": "code",
   "execution_count": 10,
   "id": "9a873780",
   "metadata": {},
   "outputs": [
    {
     "data": {
      "text/plain": [
       "CustomerID           1\n",
       "NextPurchaseDay    129\n",
       "dtype: int64"
      ]
     },
     "execution_count": 10,
     "metadata": {},
     "output_type": "execute_result"
    }
   ],
   "source": [
    "#Handeling Null Values\n",
    "user.isnull().sum()"
   ]
  },
  {
   "cell_type": "code",
   "execution_count": 11,
   "id": "415979a3",
   "metadata": {},
   "outputs": [],
   "source": [
    "user = user.fillna(999)"
   ]
  },
  {
   "cell_type": "code",
   "execution_count": 12,
   "id": "e39f194c",
   "metadata": {},
   "outputs": [
    {
     "name": "stderr",
     "output_type": "stream",
     "text": [
      "<ipython-input-12-7ab5065078d6>:4: SettingWithCopyWarning: \n",
      "A value is trying to be set on a copy of a slice from a DataFrame.\n",
      "Try using .loc[row_indexer,col_indexer] = value instead\n",
      "\n",
      "See the caveats in the documentation: https://pandas.pydata.org/pandas-docs/stable/user_guide/indexing.html#returning-a-view-versus-a-copy\n",
      "  day_order['InvoiceDay'] = perf6m['InvoiceDate'].dt.date\n"
     ]
    }
   ],
   "source": [
    "#create a dataframe with CustomerID and Invoice Date\n",
    "day_order = perf6m[['CustomerID','InvoiceDate']]\n",
    "#convert Invoice Datetime to day\n",
    "day_order['InvoiceDay'] = perf6m['InvoiceDate'].dt.date\n",
    "day_order = day_order.sort_values(['CustomerID','InvoiceDate'])\n",
    "#drop duplicates\n",
    "day_order = day_order.drop_duplicates(subset=['CustomerID','InvoiceDay'],keep='first')"
   ]
  },
  {
   "cell_type": "code",
   "execution_count": 13,
   "id": "75c144e9",
   "metadata": {},
   "outputs": [],
   "source": [
    "#shifting last 3 purchase dates\n",
    "day_order['PrevInvoiceDate'] = day_order.groupby('CustomerID')['InvoiceDay'].shift(1)\n",
    "day_order['T2InvoiceDate'] = day_order.groupby('CustomerID')['InvoiceDay'].shift(2)\n",
    "day_order['T3InvoiceDate'] = day_order.groupby('CustomerID')['InvoiceDay'].shift(3)\n"
   ]
  },
  {
   "cell_type": "code",
   "execution_count": 14,
   "id": "0e31a2bc",
   "metadata": {},
   "outputs": [],
   "source": [
    "day_order['DayDiff'] = (day_order['InvoiceDay'] - day_order['PrevInvoiceDate']).dt.days\n",
    "day_order['DayDiff2'] = (day_order['InvoiceDay'] - day_order['T2InvoiceDate']).dt.days\n",
    "day_order['DayDiff3'] = (day_order['InvoiceDay'] - day_order['T3InvoiceDate']).dt.days"
   ]
  },
  {
   "cell_type": "code",
   "execution_count": 15,
   "id": "ba229e23",
   "metadata": {},
   "outputs": [],
   "source": [
    "day_diff = day_order.groupby('CustomerID').agg({'DayDiff': ['mean','std']}).reset_index()\n",
    "day_diff.columns = ['CustomerID', 'DayDiffMean','DayDiffStd']"
   ]
  },
  {
   "cell_type": "code",
   "execution_count": 16,
   "id": "a63c2182",
   "metadata": {},
   "outputs": [],
   "source": [
    "day_order_last = day_order.drop_duplicates(subset=['CustomerID'],keep='last')"
   ]
  },
  {
   "cell_type": "code",
   "execution_count": 17,
   "id": "c3b20d97",
   "metadata": {},
   "outputs": [],
   "source": [
    "day_order_last = day_order_last.dropna()\n",
    "day_order_last = pd.merge(day_order_last, day_diff, on='CustomerID')\n",
    "user = pd.merge(user, day_order_last[['CustomerID','DayDiff','DayDiff2','DayDiff3','DayDiffMean','DayDiffStd']], on='CustomerID')\n",
    "#create class1 as a copy of user before applying get_dummies\n",
    "class1= user.copy()\n",
    "class1= pd.get_dummies(class1)"
   ]
  },
  {
   "cell_type": "code",
   "execution_count": 18,
   "id": "f9416eeb",
   "metadata": {},
   "outputs": [],
   "source": [
    "class1['NextPurchaseDayRange'] = 2\n",
    "class1.loc[class1.NextPurchaseDay>10,'NextPurchaseDayRange'] = 1\n",
    "class1.loc[class1.NextPurchaseDay>50,'NextPurchaseDayRange'] = 0"
   ]
  },
  {
   "cell_type": "code",
   "execution_count": 19,
   "id": "f8bb3bcc",
   "metadata": {},
   "outputs": [
    {
     "data": {
      "text/plain": [
       "<AxesSubplot:>"
      ]
     },
     "execution_count": 19,
     "metadata": {},
     "output_type": "execute_result"
    },
    {
     "data": {
      "image/png": "[encoded data removed]",
      "text/plain": [
       "<Figure size 2160x1440 with 2 Axes>"
      ]
     },
     "metadata": {
      "needs_background": "light"
     },
     "output_type": "display_data"
    }
   ],
   "source": [
    "corr = class1[class1.columns].corr()\n",
    "plt.figure(figsize = (30,20))\n",
    "sns.heatmap(corr, annot = True, linewidths=0.2, fmt=\".2f\")\n"
   ]
  },
  {
   "cell_type": "markdown",
   "id": "b709a3cd",
   "metadata": {},
   "source": [
    "# PCA started(Principal Component Analysis"
   ]
  },
  {
   "cell_type": "code",
   "execution_count": 20,
   "id": "d2388833",
   "metadata": {},
   "outputs": [
    {
     "name": "stdout",
     "output_type": "stream",
     "text": [
      "Variance in x = CustomerID              2.822119e+06\n",
      "NextPurchaseDay         3.925289e+02\n",
      "DayDiff                 6.382222e+00\n",
      "DayDiff2                1.162333e+01\n",
      "DayDiff3                1.468889e+01\n",
      "DayDiffMean             1.519256e+00\n",
      "DayDiffStd              2.612675e+00\n",
      "NextPurchaseDayRange    1.155556e-01\n",
      "dtype: float64\n"
     ]
    }
   ],
   "source": [
    "print(\"Variance in x =\",np.var(class1))"
   ]
  },
  {
   "cell_type": "code",
   "execution_count": 21,
   "id": "373ae199",
   "metadata": {},
   "outputs": [],
   "source": [
    "class12 = np.cov(class1.T) "
   ]
  },
  {
   "cell_type": "code",
   "execution_count": 22,
   "id": "3fe2da6b",
   "metadata": {},
   "outputs": [],
   "source": [
    "values, vecs = np.linalg.eig(class12)      # values, vecs\n",
    "\n",
    "# Make a list of (eigenvalue, eigenvector) tuples\n",
    "eigen_pairs = [(np.abs(values.real[i]), vecs.real[:, i]) for i in range(len(values.real))]\n",
    "\n",
    "#Sort the (eigenvalue, eigenvector) tuples from high to low\n",
    "eigen_pairs.sort(key=lambda k: k[0], reverse=True)"
   ]
  },
  {
   "cell_type": "code",
   "execution_count": 23,
   "id": "b6d5fd8a",
   "metadata": {},
   "outputs": [
    {
     "name": "stdout",
     "output_type": "stream",
     "text": [
      "Matrix W:\n",
      " [[ 9.99999221e-01 -1.22088103e-03]\n",
      " [ 1.21796759e-03  9.99699781e-01]\n",
      " [ 1.09877220e-04 -8.07814361e-03]\n",
      " [-3.59229809e-05  4.75614427e-03]\n",
      " [ 2.24192743e-04  1.43799339e-02]\n",
      " [ 8.60110685e-05  5.44000743e-03]\n",
      " [-6.02784201e-05 -6.54323634e-03]\n",
      " [-1.64480308e-05 -1.52246542e-02]]\n"
     ]
    }
   ],
   "source": [
    "w = np.hstack((eigen_pairs[0][1][:, np.newaxis], eigen_pairs[1][1][:, np.newaxis]))\n",
    "print('Matrix W:\\n', w)"
   ]
  },
  {
   "cell_type": "markdown",
   "id": "89445f27",
   "metadata": {},
   "source": [
    "# Modeling started With PCA"
   ]
  },
  {
   "cell_type": "code",
   "execution_count": 24,
   "id": "2bca7b5f",
   "metadata": {},
   "outputs": [],
   "source": [
    "from sklearn.metrics import classification_report,confusion_matrix\n",
    "import matplotlib.pyplot as plt\n",
    "import seaborn as sns\n",
    "from __future__ import division\n",
    "from sklearn.cluster import KMeans"
   ]
  },
  {
   "cell_type": "code",
   "execution_count": 25,
   "id": "1e540be6",
   "metadata": {},
   "outputs": [],
   "source": [
    "#import machine learning related libraries\n",
    "from sklearn.svm import SVC\n",
    "from sklearn.multioutput import MultiOutputClassifier\n",
    "from sklearn.ensemble import GradientBoostingClassifier\n",
    "from sklearn.tree import DecisionTreeClassifier\n",
    "from sklearn.neighbors import KNeighborsClassifier\n",
    "from sklearn.naive_bayes import GaussianNB\n",
    "from sklearn.ensemble import RandomForestClassifier\n",
    "from sklearn.linear_model import LogisticRegression\n",
    "from sklearn.model_selection import KFold, cross_val_score, train_test_split\n"
   ]
  },
  {
   "cell_type": "code",
   "execution_count": 26,
   "id": "c07e519e",
   "metadata": {},
   "outputs": [],
   "source": [
    "#train & test split\n",
    "X, y = class1.drop('NextPurchaseDayRange',axis=1), class1.NextPurchaseDayRange\n",
    "X_train, X_test, y_train, y_test = train_test_split(X, y, test_size=0.2)\n",
    "from sklearn.preprocessing import StandardScaler\n",
    "scaler = StandardScaler()\n",
    "# Fit on training set only.\n",
    "scaler.fit(X_train)\n",
    "# Apply transform to both the training set and the test set.\n",
    "train_img = scaler.transform(X_train)\n",
    "test_img = scaler.transform(X_test)"
   ]
  },
  {
   "cell_type": "code",
   "execution_count": 27,
   "id": "18f4f9d9",
   "metadata": {},
   "outputs": [],
   "source": [
    "from sklearn.decomposition import PCA\n",
    "# Make an instance of the Model\n",
    "pca = PCA(.95)"
   ]
  },
  {
   "cell_type": "code",
   "execution_count": 28,
   "id": "6b61d568",
   "metadata": {},
   "outputs": [
    {
     "data": {
      "text/plain": [
       "PCA(n_components=0.95)"
      ]
     },
     "execution_count": 28,
     "metadata": {},
     "output_type": "execute_result"
    }
   ],
   "source": [
    "pca.fit(X_train)"
   ]
  },
  {
   "cell_type": "code",
   "execution_count": 29,
   "id": "e43b037f",
   "metadata": {},
   "outputs": [],
   "source": [
    "X_train = pca.transform(X_train)\n",
    "X_test= pca.transform(X_test)"
   ]
  },
  {
   "cell_type": "code",
   "execution_count": 30,
   "id": "2f9c893d",
   "metadata": {},
   "outputs": [
    {
     "name": "stdout",
     "output_type": "stream",
     "text": [
      "LR [0.91666667 0.75      ]\n",
      "NB [0.91666667 0.75      ]\n",
      "RF [0.83333333 0.75      ]\n",
      "SVC [0.91666667 0.75      ]\n",
      "Dtree [0.83333333 0.75      ]\n",
      "KNN [0.91666667 0.75      ]\n"
     ]
    }
   ],
   "source": [
    "#create an array of models\n",
    "models = []\n",
    "models.append((\"LR\",LogisticRegression()))\n",
    "models.append((\"NB\",GaussianNB()))\n",
    "models.append((\"RF\",RandomForestClassifier()))\n",
    "models.append((\"SVC\",SVC()))\n",
    "models.append((\"Dtree\",DecisionTreeClassifier()))\n",
    "models.append((\"KNN\",KNeighborsClassifier()))\n",
    "\n",
    "#measure the accuracy \n",
    "for name,model in models:\n",
    "    kfold = KFold(n_splits=2)\n",
    "    result = cross_val_score(model,X_train,y_train, cv = kfold,scoring = \"accuracy\")\n",
    "    print(name, result)"
   ]
  },
  {
   "cell_type": "code",
   "execution_count": null,
   "id": "88909e34",
   "metadata": {},
   "outputs": [],
   "source": []
  }
 ],
 "metadata": {
  "kernelspec": {
   "display_name": "Python 3",
   "language": "python",
   "name": "python3"
  },
  "language_info": {
   "codemirror_mode": {
    "name": "ipython",
    "version": 3
   },
   "file_extension": ".py",
   "mimetype": "text/x-python",
   "name": "python",
   "nbconvert_exporter": "python",
   "pygments_lexer": "ipython3",
   "version": "3.8.8"
  }
 },
 "nbformat": 4,
 "nbformat_minor": 5
}
